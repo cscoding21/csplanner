{
 "cells": [
  {
   "cell_type": "code",
   "execution_count": null,
   "id": "9ffc8d24-e8ed-4caa-84fb-990384e5373b",
   "metadata": {},
   "outputs": [],
   "source": [
    "import fastapi\n",
    "\n",
    "from langchain.callbacks.manager import CallbackManager\n",
    "from langchain.callbacks.streaming_stdout import StreamingStdOutCallbackHandler\n",
    "from langchain_community.llms import Ollama\n",
    "\n",
    "llm = Ollama(model=\"mistral\")\n",
    "\n",
    "llm(\"Tell me about a joke\")"
   ]
  },
  {
   "cell_type": "code",
   "execution_count": null,
   "id": "2fb5e2fc-b168-4ec8-b847-8c6c564779fa",
   "metadata": {},
   "outputs": [],
   "source": []
  }
 ],
 "metadata": {
  "kernelspec": {
   "display_name": "Python 3 (ipykernel)",
   "language": "python",
   "name": "python3"
  },
  "language_info": {
   "codemirror_mode": {
    "name": "ipython",
    "version": 3
   },
   "file_extension": ".py",
   "mimetype": "text/x-python",
   "name": "python",
   "nbconvert_exporter": "python",
   "pygments_lexer": "ipython3",
   "version": "3.13.0"
  }
 },
 "nbformat": 4,
 "nbformat_minor": 5
}
